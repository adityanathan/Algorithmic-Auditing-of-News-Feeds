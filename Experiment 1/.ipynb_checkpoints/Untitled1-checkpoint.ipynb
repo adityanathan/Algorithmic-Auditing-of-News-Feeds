{
 "cells": [
  {
   "cell_type": "code",
   "execution_count": 7,
   "metadata": {},
   "outputs": [],
   "source": [
    "import pandas as pd\n",
    "import numpy as np\n",
    "import pickle\n",
    "import re\n",
    "import timeit\n",
    "import spacy\n",
    "\n",
    "import gensim\n",
    "import gensim.corpora as corpora\n",
    "from gensim.utils import simple_preprocess\n",
    "from gensim.models import CoherenceModel, HdpModel, LdaModel, LdaMulticore\n",
    "from nltk.corpus import stopwords\n",
    "import helper as he\n",
    "\n",
    "file_name = 'models_hdp.pkl'\n",
    "output = 'hdp_coherence.pkl'\n",
    "\n",
    "model_list = []\n",
    "data_list = []\n",
    "dict_list = []\n",
    "with open(file_name, 'rb') as f:\n",
    "    while True:\n",
    "        try:\n",
    "            iteration, model, time_arr, data, id2word, _ = pickle.load(f)\n",
    "            print(iteration)\n",
    "            model_list.append(model)\n",
    "            data_list.append(data)\n",
    "            dict_list.append(id2word)\n",
    "        except:\n",
    "            break\n"
   ]
  },
  {
   "cell_type": "code",
   "execution_count": 5,
   "metadata": {},
   "outputs": [],
   "source": [
    "coherence_list = []\n",
    "count = 0\n",
    "for i in range(0, len(model_list)):\n",
    "    model = model_list[i]\n",
    "    data = data_list[i]\n",
    "    id2word = dict_list[i]\n",
    "    print(id2word)\n",
    "    count += 1\n",
    "    print('Iteration '+str(count))\n",
    "    coherencemodel = CoherenceModel(\n",
    "        model=model, texts=data, dictionary=id2word, coherence='c_v')\n",
    "    coherence_list.append(coherencemodel.get_coherence())\n"
   ]
  },
  {
   "cell_type": "code",
   "execution_count": 6,
   "metadata": {},
   "outputs": [
    {
     "data": {
      "text/plain": [
       "[]"
      ]
     },
     "execution_count": 6,
     "metadata": {},
     "output_type": "execute_result"
    }
   ],
   "source": [
    "model_list"
   ]
  },
  {
   "cell_type": "code",
   "execution_count": null,
   "metadata": {},
   "outputs": [],
   "source": [
    "with open(output, 'wb') as f:\n",
    "    pickle.dump((coherence_list, time_arr), f)"
   ]
  }
 ],
 "metadata": {
  "kernelspec": {
   "display_name": "Python 3",
   "language": "python",
   "name": "python3"
  },
  "language_info": {
   "codemirror_mode": {
    "name": "ipython",
    "version": 3
   },
   "file_extension": ".py",
   "mimetype": "text/x-python",
   "name": "python",
   "nbconvert_exporter": "python",
   "pygments_lexer": "ipython3",
   "version": "3.7.4"
  }
 },
 "nbformat": 4,
 "nbformat_minor": 2
}
