{
 "cells": [
  {
   "cell_type": "code",
   "execution_count": 1,
   "metadata": {},
   "outputs": [],
   "source": [
    "import pickle\n",
    "import matplotlib.pyplot as plt"
   ]
  },
  {
   "cell_type": "markdown",
   "metadata": {},
   "source": [
    "Summed up to middle\n",
    "* GST = 13*2 weeks = Approx 6 months\n",
    "* Aadhar = 1*2 weeks \n",
    "\n",
    "Started from middle\n",
    "* Farmers = 0 \n",
    "* Demonetisation = 1*2 weeks"
   ]
  },
  {
   "cell_type": "code",
   "execution_count": 73,
   "metadata": {},
   "outputs": [],
   "source": [
    "input = '../../data/temp/farmers_confusion.pkl'\n",
    "\n",
    "with open(input,'rb') as f:\n",
    "    while True:\n",
    "        try:\n",
    "            y,x = pickle.load(f)\n",
    "        except:\n",
    "            break\n"
   ]
  },
  {
   "cell_type": "code",
   "execution_count": 74,
   "metadata": {},
   "outputs": [],
   "source": [
    "for i in range(1,len(temp)):\n",
    "    temp[i]=temp[i]+temp[i-1]"
   ]
  },
  {
   "cell_type": "code",
   "execution_count": 77,
   "metadata": {},
   "outputs": [
    {
     "data": {
      "image/png": "[encoded data removed]",
      "text/plain": [
       "<Figure size 432x288 with 1 Axes>"
      ]
     },
     "metadata": {
      "needs_background": "light"
     },
     "output_type": "display_data"
    }
   ],
   "source": [
    "fig = plt.figure()\n",
    "plt.title('Farmers Protest')\n",
    "plt.axhline(90)\n",
    "plt.xlabel('Time in units of 2 weeks')\n",
    "plt.ylabel('Positive value from Confusion matrix')\n",
    "plt.plot(y)\n",
    "plt.savefig('farmers.eps',format='eps')"
   ]
  },
  {
   "cell_type": "code",
   "execution_count": 70,
   "metadata": {},
   "outputs": [
    {
     "data": {
      "text/plain": [
       "[92.18,\n",
       " 89.96,\n",
       " 89.29,\n",
       " 89.52,\n",
       " 89.11,\n",
       " 88.05,\n",
       " 87.86,\n",
       " 87.08,\n",
       " 86.64,\n",
       " 85.76,\n",
       " 85.19,\n",
       " 85.11,\n",
       " 84.79,\n",
       " 84.73,\n",
       " 84.16,\n",
       " 83.57,\n",
       " 81.84,\n",
       " 81.84,\n",
       " 83.14,\n",
       " 82.41,\n",
       " 82.64,\n",
       " 82.22,\n",
       " 82.21,\n",
       " 82.61,\n",
       " 82.96,\n",
       " 82.85,\n",
       " 81.06,\n",
       " 79.49,\n",
       " 78.28,\n",
       " 78.5,\n",
       " 79.05,\n",
       " 78.02,\n",
       " 79.81,\n",
       " 79.18,\n",
       " 79.69,\n",
       " 78.82,\n",
       " 78.62,\n",
       " 79.48,\n",
       " 79.68,\n",
       " 80.02,\n",
       " 78.86,\n",
       " 78.67,\n",
       " 79.68,\n",
       " 79.16,\n",
       " 78.77,\n",
       " 78.37,\n",
       " 78.37,\n",
       " 78.31,\n",
       " 78.58,\n",
       " 78.91,\n",
       " 78.04,\n",
       " 78.68,\n",
       " 78.44,\n",
       " 78.3,\n",
       " 78.26,\n",
       " 78.52,\n",
       " 78.25,\n",
       " 78.42,\n",
       " 78.48,\n",
       " 77.86,\n",
       " 77.4,\n",
       " 78.36]"
      ]
     },
     "execution_count": 70,
     "metadata": {},
     "output_type": "execute_result"
    }
   ],
   "source": [
    "y"
   ]
  },
  {
   "cell_type": "code",
   "execution_count": null,
   "metadata": {},
   "outputs": [],
   "source": []
  }
 ],
 "metadata": {
  "kernelspec": {
   "display_name": "Python 3",
   "language": "python",
   "name": "python3"
  },
  "language_info": {
   "codemirror_mode": {
    "name": "ipython",
    "version": 3
   },
   "file_extension": ".py",
   "mimetype": "text/x-python",
   "name": "python",
   "nbconvert_exporter": "python",
   "pygments_lexer": "ipython3",
   "version": "3.7.5"
  }
 },
 "nbformat": 4,
 "nbformat_minor": 4
}
