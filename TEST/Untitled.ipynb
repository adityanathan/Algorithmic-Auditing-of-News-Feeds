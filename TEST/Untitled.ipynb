{
 "cells": [
  {
   "cell_type": "code",
   "execution_count": 223,
   "metadata": {},
   "outputs": [],
   "source": [
    "import pickle\n",
    "import gensim\n",
    "import numpy as np\n",
    "import matplotlib.pyplot as plt\n",
    "plt.style.use('seaborn-whitegrid')\n",
    "%matplotlib inline"
   ]
  },
  {
   "cell_type": "code",
   "execution_count": 244,
   "metadata": {},
   "outputs": [
    {
     "ename": "EOFError",
     "evalue": "Ran out of input",
     "output_type": "error",
     "traceback": [
      "\u001b[0;31m---------------------------------------------------------------------------\u001b[0m",
      "\u001b[0;31mEOFError\u001b[0m                                  Traceback (most recent call last)",
      "\u001b[0;32m<ipython-input-244-54c179102c17>\u001b[0m in \u001b[0;36m<module>\u001b[0;34m\u001b[0m\n\u001b[1;32m      2\u001b[0m \u001b[0;32mwith\u001b[0m \u001b[0mopen\u001b[0m\u001b[0;34m(\u001b[0m\u001b[0;34m'confusion_temporal_2.pkl'\u001b[0m\u001b[0;34m,\u001b[0m\u001b[0;34m'rb'\u001b[0m\u001b[0;34m)\u001b[0m \u001b[0;32mas\u001b[0m \u001b[0mf\u001b[0m\u001b[0;34m:\u001b[0m\u001b[0;34m\u001b[0m\u001b[0;34m\u001b[0m\u001b[0m\n\u001b[1;32m      3\u001b[0m     \u001b[0;32mwhile\u001b[0m\u001b[0;34m(\u001b[0m\u001b[0;32mTrue\u001b[0m\u001b[0;34m)\u001b[0m\u001b[0;34m:\u001b[0m\u001b[0;34m\u001b[0m\u001b[0;34m\u001b[0m\u001b[0m\n\u001b[0;32m----> 4\u001b[0;31m         \u001b[0mlst\u001b[0m\u001b[0;34m=\u001b[0m\u001b[0mpickle\u001b[0m\u001b[0;34m.\u001b[0m\u001b[0mload\u001b[0m\u001b[0;34m(\u001b[0m\u001b[0mf\u001b[0m\u001b[0;34m)\u001b[0m\u001b[0;34m\u001b[0m\u001b[0;34m\u001b[0m\u001b[0m\n\u001b[0m",
      "\u001b[0;31mEOFError\u001b[0m: Ran out of input"
     ]
    }
   ],
   "source": [
    "lst = []\n",
    "with open('confusion_temporal_2.pkl','rb') as f:\n",
    "    while(True):\n",
    "        lst=pickle.load(f)"
   ]
  },
  {
   "cell_type": "code",
   "execution_count": 249,
   "metadata": {},
   "outputs": [
    {
     "data": {
      "text/plain": [
       "25697"
      ]
     },
     "execution_count": 249,
     "metadata": {},
     "output_type": "execute_result"
    }
   ],
   "source": [
    "# new = [x for x in range(10000,20400,200)]\n",
    "# new = [x for x in range(1,53)]\n",
    "# new = [12710, 14339, 15445, 16287, 16998, 17849]\n",
    "# new = [12710, 14339, 15445, 16287, 16998, 17849, 18049, 18249, 18449, 18649, 18849, 19049, 19249, 19449, 19649, 19849]\n",
    "new=[i for i in range(1,13,1)]\n",
    "# new\n",
    "len(lst[0])\n",
    "np.sum(lst[1])+9644"
   ]
  },
  {
   "cell_type": "code",
   "execution_count": 250,
   "metadata": {},
   "outputs": [
    {
     "data": {
      "image/png": "[encoded data removed]",
      "text/plain": [
       "<Figure size 432x288 with 1 Axes>"
      ]
     },
     "metadata": {
      "needs_background": "light"
     },
     "output_type": "display_data"
    }
   ],
   "source": [
    "fig = plt.figure()\n",
    "ax = plt.axes()\n",
    "plt.plot(new, lst[0],'go',linestyle='dashdot')\n",
    "# plt.title(\"Positive Overlap vs Corpus Size\")\n",
    "plt.xlabel(\"Simulated No. of months\")\n",
    "plt.ylabel(\"% of documents which have similar mappings in both models\");\n",
    "plt.axhline(y=90, color='r', linestyle='-')\n",
    "plt.xticks(np.arange(min(new),max(new)+1,2.0))\n",
    "plt.savefig('C_V2.eps', format='eps')\n",
    "\n",
    "# plt.plot(cumulative_time_hdp, coherence_hdp,'ro')\n",
    "# plt.plot(cumulative_time, coherence_arr,'o')"
   ]
  },
  {
   "cell_type": "code",
   "execution_count": 20,
   "metadata": {},
   "outputs": [
    {
     "data": {
      "text/plain": [
       "[3268, 1629, 1106, 842, 711, 851]"
      ]
     },
     "execution_count": 20,
     "metadata": {},
     "output_type": "execute_result"
    }
   ],
   "source": [
    "lst[1]"
   ]
  },
  {
   "cell_type": "code",
   "execution_count": 163,
   "metadata": {},
   "outputs": [],
   "source": [
    "y = [9442, 12710, 14339, 15445, 16287, 16998, 17849]\n",
    "x = [2,4,6,8,10,12,14]\n",
    "# y= np.log(y)"
   ]
  },
  {
   "cell_type": "code",
   "execution_count": 194,
   "metadata": {},
   "outputs": [],
   "source": [
    "A,B=np.polyfit(np.log(x), y,1, w=np.sqrt(y))"
   ]
  },
  {
   "cell_type": "code",
   "execution_count": 195,
   "metadata": {},
   "outputs": [],
   "source": [
    "def q(x1):\n",
    "    return A*np.log(x1)+B"
   ]
  },
  {
   "cell_type": "code",
   "execution_count": 208,
   "metadata": {},
   "outputs": [],
   "source": [
    "lst1=[]\n",
    "xp=[]\n",
    "for i in np.arange(1,20,1):\n",
    "    xp.append(i)\n",
    "    lst1.append(int(q(i)))"
   ]
  },
  {
   "cell_type": "code",
   "execution_count": 221,
   "metadata": {},
   "outputs": [],
   "source": [
    "lst1 = [6730, 11328, 13466,\n",
    "                          14874, 15926, 16765, 17464, 18063, 18587, 19053]"
   ]
  },
  {
   "cell_type": "code",
   "execution_count": 222,
   "metadata": {},
   "outputs": [
    {
     "data": {
      "text/plain": [
       "[4598, 2138, 1408, 1052, 839, 699, 599, 524, 466]"
      ]
     },
     "execution_count": 222,
     "metadata": {},
     "output_type": "execute_result"
    }
   ],
   "source": [
    "out_lst = []\n",
    "for i in range(1,len(lst1)):\n",
    "    out_lst.append(lst1[i]-lst1[i-1])\n",
    "out_lst"
   ]
  },
  {
   "cell_type": "code",
   "execution_count": 213,
   "metadata": {},
   "outputs": [
    {
     "data": {
      "text/plain": [
       "19053"
      ]
     },
     "execution_count": 213,
     "metadata": {},
     "output_type": "execute_result"
    }
   ],
   "source": [
    "DOC_TEMPORAL_INCREMENT = [17849, 699, 599, 524, 466]\n",
    "np.sum(out_lst)+6730"
   ]
  },
  {
   "cell_type": "code",
   "execution_count": 216,
   "metadata": {},
   "outputs": [
    {
     "data": {
      "text/plain": [
       "9"
      ]
     },
     "execution_count": 216,
     "metadata": {},
     "output_type": "execute_result"
    }
   ],
   "source": [
    "# DOC_TEMPORAL_INCREMENT = [3268, 1629, 1106,\n",
    "#                           842, 711, 851]  # 2 months, 2 months\n",
    "# DOC_TEMPORAL_INCREMENT = [3268, 1629, 1106,\n",
    "#                           842, 711, 851, 699, 599, 524, 466]  # 2 weeks, 1 month\n",
    "DOC_TEMPORAL_INCREMENT = [4598, 2138, 1408, 1052,\n",
    "                          839, 699, 599, 524, 466]  # 2 weeks, 2 weeks\n",
    "\n",
    "len(DOC_TEMPORAL_INCREMENT)"
   ]
  },
  {
   "cell_type": "code",
   "execution_count": null,
   "metadata": {},
   "outputs": [],
   "source": []
  }
 ],
 "metadata": {
  "kernelspec": {
   "display_name": "Python 3",
   "language": "python",
   "name": "python3"
  },
  "language_info": {
   "codemirror_mode": {
    "name": "ipython",
    "version": 3
   },
   "file_extension": ".py",
   "mimetype": "text/x-python",
   "name": "python",
   "nbconvert_exporter": "python",
   "pygments_lexer": "ipython3",
   "version": "3.7.5"
  }
 },
 "nbformat": 4,
 "nbformat_minor": 4
}
